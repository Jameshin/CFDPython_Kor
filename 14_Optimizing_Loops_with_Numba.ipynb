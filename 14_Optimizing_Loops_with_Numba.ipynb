{
 "cells": [
  {
   "cell_type": "raw",
   "metadata": {},
   "source": [
    "Text provided under a Creative Commons Attribution license, CC-BY.  All code is made available under the FSF-approved MIT license.  (c) Lorena A. Barba, Gilbert F. Forsyth 2015. Thanks to NSF for support via CAREER award #1149784."
   ]
  },
  {
   "cell_type": "markdown",
   "metadata": {},
   "source": [
    "[@LorenaABarba](https://twitter.com/LorenaABarba)"
   ]
  },
  {
   "cell_type": "markdown",
   "metadata": {},
   "source": [
    "This notebook complements the [interactive CFD online](https://bitbucket.org/cfdpython/cfd-python-class/overview) module **12 steps to Navier-Stokes**, addressing the issue of high performance with Python."
   ]
  },
  {
   "cell_type": "markdown",
   "metadata": {},
   "source": [
    "Optimizing Loops with Numba\n",
    "----\n",
    "### <font color='blue'> Numba를 이용한 루프 최적화\n",
    "\n",
    "***"
   ]
  },
  {
   "cell_type": "markdown",
   "metadata": {},
   "source": [
    "You will recall from our exploration of [array operations with NumPy](./06_Array_Operations_with_NumPy.ipynb) that there are large speed gains to be had from implementing our discretizations using NumPy-optimized array operations instead of many nested loops.\n",
    "<font color='red'>[NumPy를 사용한 배열 연산](./06_Array_Operations_with_NumPy.ipynb)에 대한 탐구에서 많은 중첩 루프 대신 NumPy 최적화 배열 연산을 사용하여 이산화를 구현함으로써 얻게되는 큰 속도 향상이 있다는것을 기억하실거에요.</font>\n",
    "\n",
    "\n",
    "\n",
    "[Numba](http://numba.pydata.org/) is a tool that offers another approach to optimizing our Python code.  Numba is a library for Python which turns Python functions into C-style compiled functions using LLVM.  Depending on the original code and the size of the problem, Numba can provide a significant speedup over NumPy optimized code.\n",
    "<font color='red'>[Numba](http://numba.pydata.org/)는 Python 코드를 최적화하는 또 다른 방법을 제공하는 도구입니다. Numba는 Python 함수를 **LLVM** 사용하여 C 스타일 컴파일(**compiled**)된 함수로 바꾸는 Python 라이브러리입니다. 원래 코드와 문제의 크기에 따라 Numba는 NumPy 최적화 코드보다 현저한 속도 향상을 제공합니다.</font>\n",
    "\n",
    "\n",
    "Let's revisit the 2D Laplace Equation:\n",
    "<font color='red'>2차원 라플라스 방정식을 다시 살펴 보겠습니다.</font>\n"
   ]
  },
  {
   "cell_type": "code",
   "execution_count": 27,
   "metadata": {
    "collapsed": true
   },
   "outputs": [],
   "source": [
    "from mpl_toolkits.mplot3d import Axes3D\n",
    "from matplotlib import cm\n",
    "from matplotlib import pyplot\n",
    "import numpy\n",
    "\n",
    "##variable declarations\n",
    "nx = 81\n",
    "ny = 81\n",
    "c = 1\n",
    "dx = 2.0/(nx-1)\n",
    "dy = 2.0/(ny-1)\n",
    "\n",
    "##initial conditions\n",
    "p = numpy.zeros((ny,nx)) ##create a XxY vector of 0's\n",
    "\n",
    "##plotting aids\n",
    "x = numpy.linspace(0,2,nx)\n",
    "y = numpy.linspace(0,1,ny)\n",
    "\n",
    "##boundary conditions\n",
    "p[:,0] = 0\t\t##p = 0 @ x = 0\n",
    "p[:,-1] = y\t\t##p = y @ x = 2\n",
    "p[0,:] = p[1,:]\t\t##dp/dy = 0 @ y = 0\n",
    "p[-1,:] = p[-2,:]\t##dp/dy = 0 @ y = 1\n"
   ]
  },
  {
   "cell_type": "markdown",
   "metadata": {},
   "source": [
    "Here is the function for iterating over the Laplace Equation that we wrote in Step 9:\n",
    "<font color='red'>여기에 9 단계에서 작성한 Laplace 방정식을 반복해주는 함수가 있습니다.</font>\n"
   ]
  },
  {
   "cell_type": "code",
   "execution_count": 17,
   "metadata": {
    "collapsed": true
   },
   "outputs": [],
   "source": [
    "def laplace2d(p, y, dx, dy, l1norm_target):\n",
    "    l1norm = 1\n",
    "    pn = numpy.empty_like(p)\n",
    "\n",
    "    while l1norm > l1norm_target:\n",
    "        pn = p.copy()\n",
    "        p[1:-1,1:-1] = (dy**2*(pn[2:,1:-1]+pn[0:-2,1:-1])+dx**2*(pn[1:-1,2:]+pn[1:-1,0:-2]))/(2*(dx**2+dy**2)) \n",
    "        p[0,0] = (dy**2*(pn[1,0]+pn[-1,0])+dx**2*(pn[0,1]+pn[0,-1]))/(2*(dx**2+dy**2))\n",
    "        p[-1,-1] = (dy**2*(pn[0,-1]+pn[-2,-1])+dx**2*(pn[-1,0]+pn[-1,-2]))/(2*(dx**2+dy**2)) \n",
    "    \n",
    "        p[:,0] = 0\t\t##p = 0 @ x = 0\n",
    "        p[:,-1] = y\t\t##p = y @ x = 2\n",
    "        p[0,:] = p[1,:]\t\t##dp/dy = 0 @ y = 0\n",
    "        p[-1,:] = p[-2,:]\t##dp/dy = 0 @ y = 1\n",
    "        l1norm = (numpy.sum(np.abs(p[:])-np.abs(pn[:])))/np.sum(np.abs(pn[:]))\n",
    "     \n",
    "    return p"
   ]
  },
  {
   "cell_type": "markdown",
   "metadata": {},
   "source": [
    "Let's use the `%%timeit` cell-magic to see how fast it runs:\n",
    "<font color='red'>`%%timeit` **cell-magic**을 사용하여 얼마나 빠르게 실행되는지 봅시다</font>"
   ]
  },
  {
   "cell_type": "code",
   "execution_count": 28,
   "metadata": {
    "collapsed": false
   },
   "outputs": [
    {
     "name": "stdout",
     "output_type": "stream",
     "text": [
      "1 loops, best of 3: 206 us per loop\n"
     ]
    }
   ],
   "source": [
    "%%timeit\n",
    "laplace2d(p, y, dx, dy, .00001)"
   ]
  },
  {
   "cell_type": "markdown",
   "metadata": {},
   "source": [
    "Ok!  Our function `laplace2d` takes around 206 *micro*-seconds to complete.  That's pretty fast and we have our array operations to thank for that.  Let's take a look at how long it takes using a more 'vanilla' Python version.\n",
    "<font color='red'>좋아요! `laplace2d` 함수는 약 206 *마이크로*초가 걸립니다. 비교적 빠르며 배열 작업 덕분이라는것을 잊지 말아야하죠. 'vanilla' Python 버전을 사용해서 걸리는 시간을 살펴 보겠습니다.</font>"
   ]
  },
  {
   "cell_type": "code",
   "execution_count": 29,
   "metadata": {
    "collapsed": true
   },
   "outputs": [],
   "source": [
    "def laplace2d_vanilla(p, y, dx, dy, l1norm_target):\n",
    "    l1norm = 1\n",
    "    pn = numpy.empty_like(p)\n",
    "    nx, ny = len(y), len(y)\n",
    "\n",
    "    while l1norm > l1norm_target:\n",
    "        pn = p.copy()\n",
    "        \n",
    "        for i in range(1, nx-1):\n",
    "            for j in range(1, ny-1):\n",
    "                p[i,j] = (dy**2*(pn[i+1,j]+pn[i-1,j])+dx**2*(pn[i,j+1]-pn[i,j-1]))/(2*(dx**2+dy**2))\n",
    "                          \n",
    "        p[0,0] = (dy**2*(pn[1,0]+pn[-1,0])+dx**2*(pn[0,1]+pn[0,-1]))/(2*(dx**2+dy**2))\n",
    "        p[-1,-1] = (dy**2*(pn[0,-1]+pn[-2,-1])+dx**2*(pn[-1,0]+pn[-1,-2]))/(2*(dx**2+dy**2)) \n",
    "    \n",
    "        p[:,0] = 0\t\t##p = 0 @ x = 0\n",
    "        p[:,-1] = y\t\t##p = y @ x = 2\n",
    "        p[0,:] = p[1,:]\t\t##dp/dy = 0 @ y = 0\n",
    "        p[-1,:] = p[-2,:]\t##dp/dy = 0 @ y = 1\n",
    "        l1norm = (numpy.sum(np.abs(p[:])-np.abs(pn[:])))/np.sum(np.abs(pn[:]))\n",
    "     \n",
    "    return p"
   ]
  },
  {
   "cell_type": "code",
   "execution_count": 30,
   "metadata": {
    "collapsed": false
   },
   "outputs": [
    {
     "name": "stdout",
     "output_type": "stream",
     "text": [
      "10 loops, best of 3: 32 ms per loop\n"
     ]
    }
   ],
   "source": [
    "%%timeit\n",
    "laplace2d_vanilla(p, y, dx, dy, .00001)"
   ]
  },
  {
   "cell_type": "markdown",
   "metadata": {},
   "source": [
    "The simple Python version takes 32 *milli*-seconds to complete.  Let's calculate the speedup we gained in using array operations:\n",
    "<font color='red'>간단한 Python 버전은 완료하려면 32 *마이크로*초 걸립니다. 배열 연산을 사용해서 얻었던 속도 향상을 계산해 봅시다.</font>"
   ]
  },
  {
   "cell_type": "code",
   "execution_count": 35,
   "metadata": {
    "collapsed": false
   },
   "outputs": [
    {
     "data": {
      "text/plain": [
       "155.33980582524273"
      ]
     },
     "execution_count": 35,
     "metadata": {},
     "output_type": "execute_result"
    }
   ],
   "source": [
    "32*1e-3/(206*1e-6)"
   ]
  },
  {
   "cell_type": "markdown",
   "metadata": {},
   "source": [
    "So NumPy gives us a 155x speed increase over regular Python code.  That said, sometimes implementing our discretizations in array operations can be a little bit tricky.\n",
    "<font color='red'>따라서 NumPy는 일반 Python 코드보다 155배 빠른 속도를 제공합니다. 즉, 배열 작업에서 이산화를 구현하는 것이 까다로울때도 있습니다.</font>\n",
    "\n",
    "Let's see what Numba can do.  We'll start by importing the special function decorator `autojit` from the `numba` library:\n",
    "<font color='red'>Numba가 무엇을 할 수 있는지 봅시다. 먼저 `numb` 라이브러리에서 특별한 함수 데코레이터 `autojit`을 가져옵니다.</font>"
   ]
  },
  {
   "cell_type": "code",
   "execution_count": 36,
   "metadata": {
    "collapsed": true
   },
   "outputs": [],
   "source": [
    "from numba import autojit"
   ]
  },
  {
   "cell_type": "markdown",
   "metadata": {},
   "source": [
    "To integrate Numba with our existing function, all we have to do it is prepend the `@autojit` function decorator before our `def` statement: \n",
    "<font color='red'>Numba를 우리의 기존 함수와 통합하기 위해서는 아래와 같이 `@autojit` 함수를 `def` 명령문 앞에 추가하면 됩니다.</font>"
   ]
  },
  {
   "cell_type": "code",
   "execution_count": 38,
   "metadata": {
    "collapsed": true
   },
   "outputs": [],
   "source": [
    "@autojit\n",
    "def laplace2d_numba(p, y, dx, dy, l1norm_target):\n",
    "    l1norm = 1\n",
    "    pn = numpy.empty_like(p)\n",
    "\n",
    "    while l1norm > l1norm_target:\n",
    "        pn = p.copy()\n",
    "        p[1:-1,1:-1] = (dy**2*(pn[2:,1:-1]+pn[0:-2,1:-1])+dx**2*(pn[1:-1,2:]+pn[1:-1,0:-2]))/(2*(dx**2+dy**2)) \n",
    "        p[0,0] = (dy**2*(pn[1,0]+pn[-1,0])+dx**2*(pn[0,1]+pn[0,-1]))/(2*(dx**2+dy**2))\n",
    "        p[-1,-1] = (dy**2*(pn[0,-1]+pn[-2,-1])+dx**2*(pn[-1,0]+pn[-1,-2]))/(2*(dx**2+dy**2)) \n",
    "    \n",
    "        p[:,0] = 0\t\t##p = 0 @ x = 0\n",
    "        p[:,-1] = y\t\t##p = y @ x = 2\n",
    "        p[0,:] = p[1,:]\t\t##dp/dy = 0 @ y = 0\n",
    "        p[-1,:] = p[-2,:]\t##dp/dy = 0 @ y = 1\n",
    "        l1norm = (numpy.sum(np.abs(p[:])-np.abs(pn[:])))/np.sum(np.abs(pn[:]))\n",
    "     \n",
    "    return p"
   ]
  },
  {
   "cell_type": "markdown",
   "metadata": {},
   "source": [
    "The only lines that have changed are the `@autojit` line and also the function name, which has been changed so we can compare performance.  Now let's see what happens:\n",
    "<font color='red'>변경된 유일한 행은 `@autojit` 라인과 성능을 비교할 수 있도록 변경된 함수 이름입니다. 이제 어떻게되는지 봅시다.</font>"
   ]
  },
  {
   "cell_type": "code",
   "execution_count": 39,
   "metadata": {
    "collapsed": false
   },
   "outputs": [
    {
     "name": "stdout",
     "output_type": "stream",
     "text": [
      "1 loops, best of 3: 137 us per loop\n"
     ]
    }
   ],
   "source": [
    "%%timeit\n",
    "laplace2d_numba(p, y, dx, dy, .00001)"
   ]
  },
  {
   "cell_type": "markdown",
   "metadata": {},
   "source": [
    "Ok!  So it's not a 155x speed increase like we saw between vanilla Python and NumPy, but it is a non-trivial gain in performance time, especially given how easy it was to implement.  Another cool feature of Numba is that you can use the `@autojit` decorator on non-array operation functions, too.  Let's try adding it onto our vanilla version:\n",
    "<font color='red'>좋아요! vanilla Python과 NumPy 사이에서 일어났던 155배 속도 향상은 아니지만, 구현하기 쉬움에 비해 고려하면 성능 시간에 별다른 이득을 얻지 못하네요. Numba의 또 다른 놀라운면은 비 배열(**non-array**) 연산 함수에서도 `@autojit` 데코레이터를 사용할 수 있다는 것입니다. vanilla 버전에 추가해 보겠습니다.</font>"
   ]
  },
  {
   "cell_type": "code",
   "execution_count": 41,
   "metadata": {
    "collapsed": true
   },
   "outputs": [],
   "source": [
    "@autojit\n",
    "def laplace2d_vanilla_numba(p, y, dx, dy, l1norm_target):\n",
    "    l1norm = 1\n",
    "    pn = numpy.empty_like(p)\n",
    "    nx, ny = len(y), len(y)\n",
    "\n",
    "    while l1norm > l1norm_target:\n",
    "        pn = p.copy()\n",
    "        \n",
    "        for i in range(1, nx-1):\n",
    "            for j in range(1, ny-1):\n",
    "                p[i,j] = (dy**2*(pn[i+1,j]+pn[i-1,j])+dx**2*(pn[i,j+1]-pn[i,j-1]))/(2*(dx**2+dy**2))\n",
    "                          \n",
    "        p[0,0] = (dy**2*(pn[1,0]+pn[-1,0])+dx**2*(pn[0,1]+pn[0,-1]))/(2*(dx**2+dy**2))\n",
    "        p[-1,-1] = (dy**2*(pn[0,-1]+pn[-2,-1])+dx**2*(pn[-1,0]+pn[-1,-2]))/(2*(dx**2+dy**2)) \n",
    "    \n",
    "        p[:,0] = 0\t\t##p = 0 @ x = 0\n",
    "        p[:,-1] = y\t\t##p = y @ x = 2\n",
    "        p[0,:] = p[1,:]\t\t##dp/dy = 0 @ y = 0\n",
    "        p[-1,:] = p[-2,:]\t##dp/dy = 0 @ y = 1\n",
    "        l1norm = (numpy.sum(np.abs(p[:])-np.abs(pn[:])))/np.sum(np.abs(pn[:]))\n",
    "     \n",
    "    return p"
   ]
  },
  {
   "cell_type": "code",
   "execution_count": 42,
   "metadata": {
    "collapsed": false
   },
   "outputs": [
    {
     "name": "stdout",
     "output_type": "stream",
     "text": [
      "1 loops, best of 3: 561 us per loop\n"
     ]
    }
   ],
   "source": [
    "%%timeit\n",
    "laplace2d_vanilla_numba(p, y, dx, dy, .00001)"
   ]
  },
  {
   "cell_type": "markdown",
   "metadata": {},
   "source": [
    "561 micro-seconds.  That's not quite the 155x increase we saw with NumPy, but it's close.  And all we did was add one line of code. \n",
    "<font color='red'>561 마이크로 초. 우리가 NumPy에서 보았던 155배 증가 만큼은 아니지만 가깝네요. 그리고 이것이 한줄의 코드를 더한것이 전부였어요.</font>\n",
    "\n",
    "So we have:\n",
    "<font color='red'>따라서 결과를 비교했을때 아래와 같습니다.</font>\n",
    "\n",
    "Vanilla Python: 32 milliseconds \n",
    "\n",
    "NumPy Python: 206 microseconds \n",
    "\n",
    "Vanilla + Numba: 561 microseconds\n",
    "\n",
    "NumPy + Numba:  137 microseconds\n",
    "\n",
    "Clearly the NumPy + Numba combination is the fastest, but the ability to quickly optimize code with nested loops can also come in very handy in certain applications.\n",
    "<font color='red'>보이는것과 같이 NumPy + Numba 조합이 가장 빠르지만 중첩 루프를 사용하여 코드를 신속하게 최적화하는 함수는 특정 응용 프로그램에서 매우 유용하기도 합니다.</font>\n",
    "\n"
   ]
  },
  {
   "cell_type": "code",
   "execution_count": null,
   "metadata": {
    "collapsed": true
   },
   "outputs": [],
   "source": []
  },
  {
   "cell_type": "code",
   "execution_count": null,
   "metadata": {
    "collapsed": true
   },
   "outputs": [],
   "source": []
  },
  {
   "cell_type": "code",
   "execution_count": 42,
   "metadata": {
    "collapsed": true
   },
   "outputs": [],
   "source": []
  },
  {
   "cell_type": "code",
   "execution_count": 1,
   "metadata": {
    "collapsed": false
   },
   "outputs": [
    {
     "data": {
      "text/html": [
       "<link href='http://fonts.googleapis.com/css?family=Fenix' rel='stylesheet' type='text/css'>\n",
       "<link href='http://fonts.googleapis.com/css?family=Alegreya+Sans:100,300,400,500,700,800,900,100italic,300italic,400italic,500italic,700italic,800italic,900italic' rel='stylesheet' type='text/css'>\n",
       "<link href='http://fonts.googleapis.com/css?family=Source+Code+Pro:300,400' rel='stylesheet' type='text/css'>\n",
       "<style>\n",
       "    @font-face {\n",
       "        font-family: \"Computer Modern\";\n",
       "        src: url('http://mirrors.ctan.org/fonts/cm-unicode/fonts/otf/cmunss.otf');\n",
       "    }\n",
       "    div.cell{\n",
       "        width:800px;\n",
       "        margin-left:16% !important;\n",
       "        margin-right:auto;\n",
       "    }\n",
       "    h1 {\n",
       "        font-family: 'Alegreya Sans', sans-serif;\n",
       "    }\n",
       "    h2 {\n",
       "        font-family: 'Fenix', serif;\n",
       "    }\n",
       "    h3{\n",
       "\t\tfont-family: 'Fenix', serif;\n",
       "        margin-top:12px;\n",
       "        margin-bottom: 3px;\n",
       "       }\n",
       "\th4{\n",
       "\t\tfont-family: 'Fenix', serif;\n",
       "       }\n",
       "    h5 {\n",
       "        font-family: 'Alegreya Sans', sans-serif;\n",
       "    }\t   \n",
       "    div.text_cell_render{\n",
       "        font-family: 'Alegreya Sans',Computer Modern, \"Helvetica Neue\", Arial, Helvetica, Geneva, sans-serif;\n",
       "        line-height: 135%;\n",
       "        font-size: 120%;\n",
       "        width:600px;\n",
       "        margin-left:auto;\n",
       "        margin-right:auto;\n",
       "    }\n",
       "    .CodeMirror{\n",
       "            font-family: \"Source Code Pro\";\n",
       "\t\t\tfont-size: 90%;\n",
       "    }\n",
       "/*    .prompt{\n",
       "        display: None;\n",
       "    }*/\n",
       "    .text_cell_render h1 {\n",
       "        font-weight: 200;\n",
       "        font-size: 50pt;\n",
       "\t\tline-height: 100%;\n",
       "        color:#CD2305;\n",
       "        margin-bottom: 0.5em;\n",
       "        margin-top: 0.5em;\n",
       "        display: block;\n",
       "    }\t\n",
       "    .text_cell_render h5 {\n",
       "        font-weight: 300;\n",
       "        font-size: 16pt;\n",
       "        color: #CD2305;\n",
       "        font-style: italic;\n",
       "        margin-bottom: .5em;\n",
       "        margin-top: 0.5em;\n",
       "        display: block;\n",
       "    }\n",
       "    \n",
       "    .warning{\n",
       "        color: rgb( 240, 20, 20 )\n",
       "        }  \n",
       "</style>\n",
       "<script>\n",
       "    MathJax.Hub.Config({\n",
       "                        TeX: {\n",
       "                           extensions: [\"AMSmath.js\"]\n",
       "                           },\n",
       "                tex2jax: {\n",
       "                    inlineMath: [ ['$','$'], [\"\\\\(\",\"\\\\)\"] ],\n",
       "                    displayMath: [ ['$$','$$'], [\"\\\\[\",\"\\\\]\"] ]\n",
       "                },\n",
       "                displayAlign: 'center', // Change this to 'center' to center equations.\n",
       "                \"HTML-CSS\": {\n",
       "                    styles: {'.MathJax_Display': {\"margin\": 4}}\n",
       "                }\n",
       "        });\n",
       "</script>\n"
      ],
      "text/plain": [
       "<IPython.core.display.HTML at 0x36fbb10>"
      ]
     },
     "execution_count": 1,
     "metadata": {},
     "output_type": "execute_result"
    }
   ],
   "source": [
    "from IPython.core.display import HTML\n",
    "def css_styling():\n",
    "    styles = open(\"../styles/custom.css\", \"r\").read()\n",
    "    return HTML(styles)\n",
    "css_styling()"
   ]
  },
  {
   "cell_type": "markdown",
   "metadata": {},
   "source": [
    "> (The cell above executes the style for this notebook. We modified a style we found on the GitHub of [CamDavidsonPilon](https://github.com/CamDavidsonPilon), [@Cmrn_DP](https://twitter.com/cmrn_dp).)"
   ]
  }
 ],
 "metadata": {
  "anaconda-cloud": {},
  "kernelspec": {
   "display_name": "Python [conda root]",
   "language": "python",
   "name": "conda-root-py"
  },
  "language_info": {
   "codemirror_mode": {
    "name": "ipython",
    "version": 3
   },
   "file_extension": ".py",
   "mimetype": "text/x-python",
   "name": "python",
   "nbconvert_exporter": "python",
   "pygments_lexer": "ipython3",
   "version": "3.5.2"
  }
 },
 "nbformat": 4,
 "nbformat_minor": 1
}
