{
 "cells": [
  {
   "cell_type": "markdown",
   "metadata": {},
   "source": [
    "Further Optimization using NumbaPro\n",
    "### <font color='blue'>NumbaPro 를 이용한 추가적인 최적화</font>\n",
    "---\n",
    "\n",
    "One of the most exciting new products from [Continuum Analytics](www.continuum.io) is called NumbaPro, which allows code written in Python to target CUDA-capable GPUs for parallelized computation. \n",
    "<font color='red'>[Continuum Analytics](www.continuum.io)의 가장 흥미로운 신제품 중 하나는 NumbaPro입니다. NumbaPro는 CUDA가 가능한 GPU를 목표로한 Python으로 코드작성으로 병렬 계산을 합니다.</font>\n",
    "\n",
    "For a quick primer on how parallel computation on GPUs works, check out ???\n",
    "<font color='red'>GPU의 병렬 계산 방법에 대한 간단한 입문을 위해 확인해보세요.</font>\n",
    "\n",
    "Now, for a brief proof-of-concept look at the capabilities of NumbaPro, let's return to our old friend, 1D Nonlinear Convection.  \n",
    "<font color='red'>이제 NumbaPro의 함수의 간단한 원리이해를 위해 이전에 다룬 1차원 비선류 컨벡션으로 돌아가 보겠습니다.</font>\n",
    "\n",
    "Yes, this is a trivial problem, but it is a good demonstration of the potential for speed gains using NumbaPro and GPU computation. \n",
    "<font color='red'>예, 이것은 사소한 문제이지만 예시로 NumbaPro 및 GPU 계산을 사용하여 속도 향상하는 능력을 잘 보여줍니다.</font>\n",
    "\n",
    "We'll start by importing the usual libraries, plus the `time` library, so we can measure our performance gains, and also the appropriate libraries from `numbapro`.\n",
    "<font color='red'>성능 향상의 측정과 `numbapro`의 적절한 라이브러리를 알아보기 위해 늘 사용하던 일반적인 라이브러리와 `time` 라이브러리를 불러와서 시작합니다.</font>\n",
    "\n",
    "`autojit` is the same library we used with regular `numba`, and in fact we'll be using it the same way, to provide a comparison between regular Numba and NumbaPro.  \n",
    "<font color='red'>`autojit`은 일반 `numba`와 함께 사용한 것과 동일한 라이브러리이며, NumbaPro와 일반 Numba를 비교하기 위해 동일한 방식으로 사용할 것입니다.</font>\n",
    "\n",
    "`cuda` is the NumbaPro library that provides the CUDA intrinsics which allow us to target the GPU for computation.  \n",
    "<font color='red'>`cuda`는 계산을 위해 GPU를 대상으로하는 CUDA 내장 함수를 제공하는 NumbaPro 라이브러리입니다.</font>\n",
    "\n",
    "`float32` is a data type.  Python generally takes care of whether we want an `int` or a `str` for us, but when we start delving into the dark depths of memory management, it can be helpful (and sometimes required) to be a bit more specific concerning our data formats.  \n",
    "<font color='red'>`float32`는 데이터 유형입니다. Python은 일반적으로 우리에게 `int` 또는 `str`이 필요한지 여부를 결정하지만 메모리 관리의 더욱 깊은 내용을 다루기 시작할때 데이터 형식과 관련하여 좀 더 구체적으로 도움이 될 수 있습니다.</font>"
   ]
  },
  {
   "cell_type": "code",
   "execution_count": 2,
   "metadata": {
    "collapsed": true
   },
   "outputs": [],
   "source": [
    "import matplotlib.pyplot as plt\n",
    "import numpy as np\n",
    "import time\n",
    "from numbapro import autojit, cuda, jit, float"
   ]
  },
  {
   "cell_type": "markdown",
   "metadata": {},
   "source": [
    "The first function we're trying out is a simple implementation using array operations in Numpy. \n",
    "<font color='red'>제일 먼저 시도하는 함수는 Numpy에서 배열작업을 사용하는 간단한 구현입니다.</font>"
   ]
  },
  {
   "cell_type": "code",
   "execution_count": 3,
   "metadata": {
    "collapsed": true
   },
   "outputs": [],
   "source": [
    "###1-D Nonlinear convection implemented using Numpy\n",
    "def NonLinNumpy(u, un, nx, nt, dx, dt):\n",
    "\n",
    "    ###Run through nt timesteps and plot/animate each step\n",
    "    for n in range(nt): ##loop across number of time steps\n",
    "        un = u.copy()\n",
    "        u[1:] = -un[1:]*dt/dx*(un[1:]-un[:-1])+un[1:]\n",
    "    \n",
    "    return u"
   ]
  },
  {
   "cell_type": "markdown",
   "metadata": {},
   "source": [
    "The 'vanilla' version is what we used for Step 2, two nested loops and not that efficient.  \n",
    "<font color='red'>'vanilla' 버젼은 우리가 2단계에서 사용했었어요. 많이 효율적이지 못한 2개의 중첩된 루프입니다.</font>"
   ]
  },
  {
   "cell_type": "code",
   "execution_count": 4,
   "metadata": {
    "collapsed": true
   },
   "outputs": [],
   "source": [
    "###1-D Nonlinear convection implemented using 'vanilla' Python\n",
    "def NonLinVanilla(u, nx, nt, dx, dt):\n",
    "\n",
    "    for n in range(nt):\n",
    "        for i in range(1,nx-1):\n",
    "            u[i+1] = -u[i]*dt/dx*(u[i]-u[i-1])+u[i]\n",
    "\n",
    "    return u"
   ]
  },
  {
   "cell_type": "markdown",
   "metadata": {},
   "source": [
    "Here we've implemented the same 'vanilla' version, but we've added the `@autojit` decorator, which will tell Numba to JIT compile this function for a nice speed boost. \n",
    "<font color='red'>우리는 동일한 '바닐라'버전을 구현했지만, `@autojit` 데코레이터를 추가하고 이것을 Numba에 JIT가 컴파일하도록 명령해서 속도향상을 추진했습니다. "
   ]
  },
  {
   "cell_type": "code",
   "execution_count": 5,
   "metadata": {
    "collapsed": true
   },
   "outputs": [],
   "source": [
    "###1-D Nonlinear convection implemented using Numba JIT compiler (similar to LLVM)\n",
    "@autojit\n",
    "def NonLinNumba(u,un, nx, nt, dx, dt):\n",
    "\n",
    "    for n in range(nt):\n",
    "        for i in range(1,nx):\n",
    "            un[i] = -u[i]*dt/dx*(u[i]-u[i-1])+u[i]\n",
    "\n",
    "    return un"
   ]
  },
  {
   "cell_type": "markdown",
   "metadata": {},
   "source": [
    "CUDA JIT\n",
    "---\n",
    "\n",
    "There's a lot going on here that will be new to you, so we'll go through it piece by piece.\n",
    "<font color='red'>다음으로 이어지는 내용은 다소 생소한 부분이 많습니다. 그렇기에 하나씩 함께 짚어가도록 하겠습니다.</font>\n",
    "\n",
    "`@jit(argtypes=[float32[:], float32, float32, float32, float32[:]], target='gpu')`\n",
    "\n",
    "Instead of `@autojit` which automatically figures out data-types for us, we have to specify what kind of variables will be sent to this function (which is actually a CUDA 'kernel').  The `argtypes` above tell the kernel that there will be five variables, three scalar floats and two float arrays.  \n",
    "<font color='red'>데이터 타입을 자동으로 분별해주는 `@autojit` 대신, 우리가 함수에 어떠한 변수가 보내질것인지 지정해야합니다 (이것이 CUDA 'kernel'입니다). 위에서 `argtypes`은 kernel에게 5개의 변수, 3개의 스칼라 float 그리고 2개의 float 배열이 있다는것을 알려줍니다."
   ]
  },
  {
   "cell_type": "code",
   "execution_count": 6,
   "metadata": {
    "collapsed": true
   },
   "outputs": [],
   "source": [
    "###1-D Nonlinear convection implemented using NumbaPro CUDA-JIT\n",
    "d@jit(argtypes=[float32[:], float32, float32, float32, float32[:]], target='gpu')\n",
    "def NonLinCudaJit(u, dx, dt, nt, un):\n",
    "    tid = cuda.threadIdx.x\n",
    "    blkid = cuda.blockIdx.x\n",
    "    blkdim = cuda.blockDim.x\n",
    "    i = tid + blkid * blkdim\n",
    "\n",
    "    if i >= u.shape[0]:\n",
    "        return\n",
    "\n",
    "    for n in range(nt):\n",
    "        un[i] = -u[i]*dt/dx*(u[i]-u[i-1])+u[i]\n",
    "        \n",
    "        cuda.syncthreads()"
   ]
  },
  {
   "cell_type": "code",
   "execution_count": 14,
   "metadata": {
    "collapsed": true
   },
   "outputs": [],
   "source": [
    "def main(nx):\n",
    "    ##System Conditions    \n",
    "    #nx = 500 \n",
    "    nt = 500\n",
    "    c = 1\n",
    "    xmax = 15.0\n",
    "    dx = xmax/(nx-1)\n",
    "    sigma = 0.25\n",
    "    dt = sigma*dx\n",
    "\n",
    "    ##Initial Conditions for wave\n",
    "    ui = np.ones(nx) ##create a 1xn vector of 1's\n",
    "    ui[.5/dx:1/dx+1]=2 ##set hat function I.C. : .5<=x<=1 is 2\n",
    "    un = np.ones(nx)    \n",
    "\n",
    "    if nx < 20001:\n",
    "        t1 = time.time()\n",
    "        u = NonLinVanilla(ui, nx, nt, dx, dt)\n",
    "        t2 = time.time()\n",
    "        print \"Vanilla version took: %.6f seconds\" % (t2-t1)\n",
    "    \n",
    "    \n",
    "    ui = np.ones(nx) ##create a 1xn vector of 1's\n",
    "    ui[.5/dx:1/dx+1]=2 ##set hat function I.C. : .5<=x<=1 is 2\n",
    "    \n",
    "    t1 = time.time()\n",
    "    u = NonLinNumpy(ui, un, nx, nt, dx, dt)\n",
    "    t2 = time.time()\n",
    "    print \"Numpy version took: %.6f seconds\" % (t2-t1)\n",
    "    numpytime = t2-t1\n",
    "    #plt.plot(numpy.linspace(0,xmax,nx),u[:],marker='o',lw=2)\n",
    "\n",
    "    \n",
    "    ui = np.ones(nx) ##create a 1xn vector of 1's\n",
    "    ui[.5/dx:1/dx+1]=2 ##set hat function I.C. : .5<=x<=1 is 2\n",
    "    \n",
    "    t1 = time.time()\n",
    "    u = NonLinNumba(ui, un, nx, nt, dx, dt)\n",
    "    t2 = time.time()\n",
    "    print \"Numbapro Vectorize version took: %.6f seconds\" % (t2-t1)\n",
    "    vectime = t2-t1\n",
    "    #plt.plot(numpy.linspace(0,xmax,nx),u[:],marker='o',lw=2)\n",
    "\n",
    "    u = np.ones(nx)\n",
    "    u = ui.copy()\n",
    "    griddim = 320, 1\n",
    "    blockdim = 768, 1, 1\n",
    "    NonLinCudaJit_conf = NonLinCudaJit[griddim, blockdim]\n",
    "    t1 = time.time()\n",
    "    NonLinCudaJit(u, dx, dt, nt, un)\n",
    "    t2 = time.time()\n",
    "\n",
    "    print \"Numbapro Cuda version took: %.6f seconds\" % (t2-t1)\n",
    "    cudatime = t2-t1"
   ]
  },
  {
   "cell_type": "code",
   "execution_count": 10,
   "metadata": {},
   "outputs": [
    {
     "name": "stdout",
     "output_type": "stream",
     "text": [
      "Vanilla version took: 0.581475 seconds\n",
      "Numpy version took: 0.007635 seconds\n",
      "Numbapro Vectorize version took: 0.000966 seconds\n",
      "Numbapro Cuda version took: 0.002658 seconds\n"
     ]
    }
   ],
   "source": [
    "main(500)"
   ]
  },
  {
   "cell_type": "code",
   "execution_count": 11,
   "metadata": {},
   "outputs": [
    {
     "name": "stdout",
     "output_type": "stream",
     "text": [
      "Vanilla version took: 1.140803 seconds\n",
      "Numpy version took: 0.008878 seconds\n",
      "Numbapro Vectorize version took: 0.001837 seconds\n",
      "Numbapro Cuda version took: 0.002678 seconds\n"
     ]
    }
   ],
   "source": [
    "main(1000)"
   ]
  },
  {
   "cell_type": "code",
   "execution_count": 12,
   "metadata": {},
   "outputs": [
    {
     "name": "stdout",
     "output_type": "stream",
     "text": [
      "Vanilla version took: 5.336566 seconds\n",
      "Numpy version took: 0.023648 seconds\n",
      "Numbapro Vectorize version took: 0.009166 seconds\n",
      "Numbapro Cuda version took: 0.002717 seconds\n"
     ]
    }
   ],
   "source": [
    "main(5000)"
   ]
  },
  {
   "cell_type": "code",
   "execution_count": 13,
   "metadata": {},
   "outputs": [
    {
     "name": "stdout",
     "output_type": "stream",
     "text": [
      "Vanilla version took: 10.719647 seconds\n",
      "Numpy version took: 0.043988 seconds\n",
      "Numbapro Vectorize version took: 0.018464 seconds\n",
      "Numbapro Cuda version took: 0.002899 seconds\n"
     ]
    }
   ],
   "source": [
    "main(10000)"
   ]
  },
  {
   "cell_type": "code",
   "execution_count": 15,
   "metadata": {},
   "outputs": [
    {
     "name": "stdout",
     "output_type": "stream",
     "text": [
      "Vanilla version took: 21.414605 seconds\n",
      "Numpy version took: 0.083821 seconds\n",
      "Numbapro Vectorize version took: 0.036616 seconds\n",
      "Numbapro Cuda version took: 0.002943 seconds\n"
     ]
    }
   ],
   "source": [
    "main(20000)"
   ]
  },
  {
   "cell_type": "code",
   "execution_count": 16,
   "metadata": {},
   "outputs": [
    {
     "name": "stdout",
     "output_type": "stream",
     "text": [
      "Numpy version took: 0.207808 seconds\n",
      "Numbapro Vectorize version took: 0.093922 seconds\n",
      "Numbapro Cuda version took: 0.003228 seconds\n"
     ]
    }
   ],
   "source": [
    "main(50000)"
   ]
  },
  {
   "cell_type": "code",
   "execution_count": 17,
   "metadata": {},
   "outputs": [
    {
     "name": "stdout",
     "output_type": "stream",
     "text": [
      "Numpy version took: 0.456931 seconds\n",
      "Numbapro Vectorize version took: 0.189677 seconds\n",
      "Numbapro Cuda version took: 0.004876 seconds\n"
     ]
    }
   ],
   "source": [
    "main(100000)"
   ]
  },
  {
   "cell_type": "code",
   "execution_count": 18,
   "metadata": {},
   "outputs": [
    {
     "name": "stdout",
     "output_type": "stream",
     "text": [
      "Numpy version took: 1.255342 seconds\n",
      "Numbapro Vectorize version took: 0.393786 seconds\n",
      "Numbapro Cuda version took: 0.005403 seconds\n"
     ]
    }
   ],
   "source": [
    "main(200000)"
   ]
  },
  {
   "cell_type": "code",
   "execution_count": 1,
   "metadata": {},
   "outputs": [
    {
     "data": {
      "text/html": [
       "<style>\n",
       "    @font-face {\n",
       "        font-family: \"Computer Modern\";\n",
       "        src: url('http://mirrors.ctan.org/fonts/cm-unicode/fonts/otf/cmunss.otf');\n",
       "    }\n",
       "    div.cell{\n",
       "        width:800px;\n",
       "        margin-left:16% !important;\n",
       "        margin-right:auto;\n",
       "    }\n",
       "    h1 {\n",
       "        font-family: Helvetica, serif;\n",
       "    }\n",
       "    h2 {\n",
       "        font-family: Helvetica, serif;\n",
       "    }\n",
       "    h4{\n",
       "        margin-top:12px;\n",
       "        margin-bottom: 3px;\n",
       "       }\n",
       "    div.text_cell_render{\n",
       "        font-family: Computer Modern, \"Helvetica Neue\", Arial, Helvetica, Geneva, sans-serif;\n",
       "        line-height: 135%;\n",
       "        font-size: 120%;\n",
       "        width:600px;\n",
       "        margin-left:auto;\n",
       "        margin-right:auto;\n",
       "    }\n",
       "    .CodeMirror{\n",
       "            font-family: \"Source Code Pro\", source-code-pro,Consolas, monospace;\n",
       "    }\n",
       "/*    .prompt{\n",
       "        display: None;\n",
       "    }*/\n",
       "    .text_cell_render h5 {\n",
       "        font-weight: 300;\n",
       "        font-size: 16pt;\n",
       "        color: #4057A1;\n",
       "        font-style: italic;\n",
       "        margin-bottom: .5em;\n",
       "        margin-top: 0.5em;\n",
       "        display: block;\n",
       "    }\n",
       "    \n",
       "    .warning{\n",
       "        color: rgb( 240, 20, 20 )\n",
       "        }  \n",
       "</style>\n",
       "<script>\n",
       "    MathJax.Hub.Config({\n",
       "                        TeX: {\n",
       "                           extensions: [\"AMSmath.js\"]\n",
       "                           },\n",
       "                tex2jax: {\n",
       "                    inlineMath: [ ['$','$'], [\"\\\\(\",\"\\\\)\"] ],\n",
       "                    displayMath: [ ['$$','$$'], [\"\\\\[\",\"\\\\]\"] ]\n",
       "                },\n",
       "                displayAlign: 'center', // Change this to 'center' to center equations.\n",
       "                \"HTML-CSS\": {\n",
       "                    styles: {'.MathJax_Display': {\"margin\": 4}}\n",
       "                }\n",
       "        });\n",
       "</script>"
      ],
      "text/plain": [
       "<IPython.core.display.HTML at 0x349ded0>"
      ]
     },
     "execution_count": 1,
     "metadata": {},
     "output_type": "execute_result"
    }
   ],
   "source": [
    "from IPython.core.display import HTML\n",
    "def css_styling():\n",
    "    styles = open(\"../styles/custom.css\", \"r\").read()\n",
    "    return HTML(styles)\n",
    "css_styling()"
   ]
  },
  {
   "cell_type": "code",
   "execution_count": null,
   "metadata": {
    "collapsed": true
   },
   "outputs": [],
   "source": []
  }
 ],
 "metadata": {
  "kernelspec": {
   "display_name": "Python 3",
   "language": "python",
   "name": "python3"
  },
  "language_info": {
   "codemirror_mode": {
    "name": "ipython",
    "version": 3
   },
   "file_extension": ".py",
   "mimetype": "text/x-python",
   "name": "python",
   "nbconvert_exporter": "python",
   "pygments_lexer": "ipython3",
   "version": "3.8.5"
  }
 },
 "nbformat": 4,
 "nbformat_minor": 1
}
